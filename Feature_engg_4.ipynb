{
  "nbformat": 4,
  "nbformat_minor": 0,
  "metadata": {
    "colab": {
      "provenance": []
    },
    "kernelspec": {
      "name": "python3",
      "display_name": "Python 3"
    },
    "language_info": {
      "name": "python"
    }
  },
  "cells": [
    {
      "cell_type": "markdown",
      "source": [
        "### Q1"
      ],
      "metadata": {
        "id": "8zNzzKT7H-Ue"
      }
    },
    {
      "cell_type": "markdown",
      "source": [
        "Data encoding is the process of converting data into a specific format that makes it easier for computational models to process, analyze, or transmit. In data science, this often involves transforming categorical data into numerical representations so that it can be used effectively by machine learning algorithms, which typically work better with numerical inputs.\n",
        "\n",
        "#Types of Data Encoding\n",
        "\n",
        "#Label Encoding\n",
        "Assigns a unique integer to each category in the data.\n",
        "Example:\n",
        "\n",
        "Colors: Red → 0, Green → 1, Blue → 2\n",
        "#One-Hot Encoding\n",
        "Converts categorical variables into a set of binary columns, each representing a category.\n",
        "Example:\n",
        "\n",
        "Colors: Red → [1, 0, 0], Green → [0, 1, 0], Blue → [0, 0, 1]\n",
        "#Ordinal Encoding\n",
        "Similar to label encoding but retains the order of categories.\n",
        "Example:\n",
        "\n",
        "Sizes: Small → 0, Medium → 1, Large → 2\n",
        "#Frequency Encoding\n",
        "Encodes categories based on the frequency of their occurrence in the dataset.\n",
        "Example:\n",
        "\n",
        "If \"Red\" appears 10 times and \"Green\" appears 5 times, encode Red as 10 and Green as 5.\n",
        "#Binary Encoding\n",
        "Combines label encoding and binary conversion. Categories are first label-encoded, then converted to binary representation.\n",
        "\n",
        "#Hash Encoding\n",
        "Maps categories to a fixed number of dimensions using a hash function.\n",
        "\n",
        "#How is Data Encoding Useful in Data Science?\n",
        "Preparing Data for Machine Learning Models\n",
        "Machine learning algorithms often require numerical inputs. Encoding transforms categorical data into a format that models can process.\n",
        "\n",
        "Improving Model Performance\n",
        "Proper encoding can help capture relationships and patterns in the data, improving the performance of the model.\n",
        "\n",
        "Reducing Dimensionality\n",
        "Encoding techniques like frequency encoding and hash encoding can help reduce the number of features, leading to faster training times.\n",
        "\n",
        "Handling Categorical Variables\n",
        "Many real-world datasets contain categorical data, such as names, colors, or geographic locations. Encoding makes it possible to include this data in analyses and models.\n",
        "\n",
        "Maintaining Interpretability\n",
        "Encoding can help maintain the interpretability of the model's predictions by ensuring categorical variables are represented in a meaningful way.\n",
        "\n",
        "#Choosing the Right Encoding Technique\n",
        "The choice of encoding depends on:\n",
        "\n",
        "The nature of the data (e.g., ordinal, nominal).\n",
        "\n",
        "The specific machine learning algorithm being used.\n",
        "\n",
        "The size and sparsity of the dataset.\n",
        "\n",
        "Encoding is a critical preprocessing step that ensures the dataset is suitable for downstream analysis and machine learning.\n",
        "\n",
        "\n",
        "\n",
        "\n",
        "\n",
        "\n"
      ],
      "metadata": {
        "id": "8sxX426hH-XB"
      }
    },
    {
      "cell_type": "markdown",
      "source": [
        "### Q2"
      ],
      "metadata": {
        "id": "YTQl-L1BH-e4"
      }
    },
    {
      "cell_type": "markdown",
      "source": [
        "Nominal encoding is the process of converting nominal (categorical) data into numerical values that can be used in machine learning models. Nominal data refers to categorical variables that have no intrinsic order or ranking. For example, categories like \"Red,\" \"Blue,\" and \"Green\" or \"Dog,\" \"Cat,\" and \"Bird\" are nominal since their values do not imply any particular hierarchy.\n",
        "\n",
        "#Techniques for Nominal Encoding\n",
        "#One-Hot Encoding\n",
        "Each category is represented as a binary vector with a length equal to the number of unique categories.\n",
        "\n",
        "#Label Encoding\n",
        "Each category is assigned a unique integer, but this can introduce unintended ordinal relationships.\n",
        "\n",
        "#Frequency Encoding\n",
        "Categories are replaced with the frequency of their occurrence in the dataset.\n",
        "\n",
        "#Hash Encoding\n",
        "Categories are hashed into a fixed number of columns.\n",
        "\n",
        "#Real-World Example: Using Nominal Encoding\n",
        "Scenario\n",
        "\n",
        "You are working on a machine learning model to predict customer churn for a subscription-based streaming service. One of the features in your dataset is the preferred genre of movies watched by customers. The possible values for this column are:\n",
        "\n",
        "Action\n",
        "\n",
        "Comedy\n",
        "\n",
        "Drama\n",
        "\n",
        "Horror\n",
        "\n",
        "Sci-Fi\n",
        "\n",
        "Since these genres are nominal and do not have any inherent ranking, you need to encode them.\n",
        "\n"
      ],
      "metadata": {
        "id": "KwLVGI_2H-cF"
      }
    },
    {
      "cell_type": "code",
      "source": [
        "import pandas as pd\n",
        "\n",
        "# Sample dataset\n",
        "data = {'CustomerID': [1, 2, 3, 4, 5],\n",
        "        'PreferredGenre': ['Action', 'Comedy', 'Drama', 'Horror', 'Sci-Fi']}\n",
        "df = pd.DataFrame(data)\n",
        "\n",
        "# One-Hot Encoding\n",
        "encoded_df = pd.get_dummies(df, columns=['PreferredGenre'])\n",
        "\n",
        "print(encoded_df)\n"
      ],
      "metadata": {
        "colab": {
          "base_uri": "https://localhost:8080/"
        },
        "id": "8h25BT66JeKx",
        "outputId": "4f049c2b-be7a-4eea-8166-2aa89523ad9a"
      },
      "execution_count": 1,
      "outputs": [
        {
          "output_type": "stream",
          "name": "stdout",
          "text": [
            "   CustomerID  PreferredGenre_Action  PreferredGenre_Comedy  \\\n",
            "0           1                   True                  False   \n",
            "1           2                  False                   True   \n",
            "2           3                  False                  False   \n",
            "3           4                  False                  False   \n",
            "4           5                  False                  False   \n",
            "\n",
            "   PreferredGenre_Drama  PreferredGenre_Horror  PreferredGenre_Sci-Fi  \n",
            "0                 False                  False                  False  \n",
            "1                 False                  False                  False  \n",
            "2                  True                  False                  False  \n",
            "3                 False                   True                  False  \n",
            "4                 False                  False                   True  \n"
          ]
        }
      ]
    },
    {
      "cell_type": "markdown",
      "source": [
        "### Q3"
      ],
      "metadata": {
        "id": "chspqi0aH-Zq"
      }
    },
    {
      "cell_type": "markdown",
      "source": [
        "#When is Nominal Encoding Preferred Over One-Hot Encoding?\n",
        "\n",
        "Nominal encoding (like label encoding or frequency encoding) is preferred over\n",
        "one-hot encoding in situations where:\n",
        "\n",
        "#High Cardinality of Categories:\n",
        "One-hot encoding can lead to a large number of features if there are many unique categories. This increases the dimensionality of the dataset, making the model computationally expensive and prone to overfitting.\n",
        "\n",
        "#Memory Constraints:\n",
        "For datasets with limited computational resources, nominal encoding reduces the number of columns and saves memory.\n",
        "\n",
        "#Certain Algorithms Handle Nominal Values Better:\n",
        "Algorithms like tree-based models (e.g., Random Forest, Gradient Boosting) can handle label-encoded categories effectively without the risk of misinterpreting ordinal relationships.\n",
        "\n",
        "#Interpretability or Domain-Specific Insights:\n",
        "In some cases, the frequency or label encoding might align better with domain-specific knowledge or insights.\n",
        "\n",
        "#Practical Example: Frequency Encoding\n",
        "Scenario\n",
        "\n",
        "You are building a predictive model to forecast house prices. One of the features in your dataset is the neighborhood where the house is located. There are hundreds of unique neighborhoods in the data.\n",
        "\n",
        "#Why Not One-Hot Encoding?\n",
        "If there are 300 unique neighborhoods, one-hot encoding will create 300 additional columns.\n",
        "\n",
        "This significantly increases dimensionality, leading to inefficiencies and possible overfitting.\n",
        "\n",
        "Frequency Encoding Solution\n",
        "\n",
        "Frequency encoding replaces each neighborhood with the frequency of its occurrence in the dataset"
      ],
      "metadata": {
        "id": "6ErrVhBXH-g8"
      }
    },
    {
      "cell_type": "code",
      "source": [
        "import pandas as pd\n",
        "\n",
        "# Sample dataset\n",
        "data = {'HouseID': [1, 2, 3, 4, 5],\n",
        "        'Neighborhood': ['A', 'B', 'A', 'C', 'B']}\n",
        "df = pd.DataFrame(data)\n",
        "\n",
        "# Frequency Encoding\n",
        "frequency = df['Neighborhood'].value_counts() / len(df)\n",
        "df['Neighborhood_Encoded'] = df['Neighborhood'].map(frequency)\n",
        "\n",
        "print(df)\n"
      ],
      "metadata": {
        "colab": {
          "base_uri": "https://localhost:8080/"
        },
        "id": "aZ4sc1lTKS52",
        "outputId": "863a51f6-9f40-4322-b951-c96bca44a902"
      },
      "execution_count": 2,
      "outputs": [
        {
          "output_type": "stream",
          "name": "stdout",
          "text": [
            "   HouseID Neighborhood  Neighborhood_Encoded\n",
            "0        1            A                   0.4\n",
            "1        2            B                   0.4\n",
            "2        3            A                   0.4\n",
            "3        4            C                   0.2\n",
            "4        5            B                   0.4\n"
          ]
        }
      ]
    },
    {
      "cell_type": "markdown",
      "source": [
        "### Q4"
      ],
      "metadata": {
        "id": "xYzQE46kH-n6"
      }
    },
    {
      "cell_type": "markdown",
      "source": [
        "#Choosing an Encoding Technique for a Categorical Variable with 5 Unique Values\n",
        "The choice of encoding depends on:\n",
        "\n",
        "The nature of the categorical data (nominal or ordinal).\n",
        "The machine learning algorithm being used.\n",
        "The size and structure of the dataset.\n",
        "\n",
        "#Step 1: Analyze the Categorical Data\n",
        "#Scenario 1: Data is Nominal\n",
        "If the 5 unique values do not have an inherent order (e.g., colors: Red, Green, Blue, Yellow, Black):\n",
        "\n",
        "Best Encoding Technique: One-Hot Encoding\n",
        "\n",
        "Reason: One-hot encoding avoids introducing ordinal relationships, ensuring that the algorithm treats all categories as equally distinct.\n",
        "\n",
        "Suitability: It works well for most machine learning algorithms that require numerical input.\n"
      ],
      "metadata": {
        "id": "7z1WxCPEH-rJ"
      }
    },
    {
      "cell_type": "code",
      "source": [
        "import pandas as pd\n",
        "\n",
        "# Example dataset\n",
        "data = {'Category': ['Red', 'Green', 'Blue', 'Yellow', 'Black']}\n",
        "df = pd.DataFrame(data)\n",
        "\n",
        "# One-Hot Encoding\n",
        "encoded_df = pd.get_dummies(df, columns=['Category'])\n",
        "\n",
        "print(encoded_df)\n"
      ],
      "metadata": {
        "colab": {
          "base_uri": "https://localhost:8080/"
        },
        "id": "elbboNgAKvEy",
        "outputId": "71c47573-04af-4932-f488-e904104cb066"
      },
      "execution_count": 3,
      "outputs": [
        {
          "output_type": "stream",
          "name": "stdout",
          "text": [
            "   Category_Black  Category_Blue  Category_Green  Category_Red  \\\n",
            "0           False          False           False          True   \n",
            "1           False          False            True         False   \n",
            "2           False           True           False         False   \n",
            "3           False          False           False         False   \n",
            "4            True          False           False         False   \n",
            "\n",
            "   Category_Yellow  \n",
            "0            False  \n",
            "1            False  \n",
            "2            False  \n",
            "3             True  \n",
            "4            False  \n"
          ]
        }
      ]
    },
    {
      "cell_type": "markdown",
      "source": [
        "Scenario 2: Data is Ordinal\n",
        "If the 5 unique values have an intrinsic order (e.g., education levels: High School < Bachelor’s < Master’s < Ph.D. < Post-Doc):\n",
        "\n",
        "Best Encoding Technique: Label Encoding or Ordinal Encoding\n",
        "\n",
        "Reason: Label encoding or ordinal encoding retains the order and provides meaningful numerical representation for algorithms that can process ordinal relationships.\n",
        "\n",
        "Suitability: Effective for tree-based models like Decision Trees, Random Forests, or XGBoost."
      ],
      "metadata": {
        "id": "TY6cEFIMKvNI"
      }
    },
    {
      "cell_type": "code",
      "source": [
        "from sklearn.preprocessing import OrdinalEncoder\n",
        "\n",
        "# Example dataset\n",
        "data = {'Education': ['High School', 'Bachelor', 'Master', 'PhD', 'Post-Doc']}\n",
        "df = pd.DataFrame(data)\n",
        "\n",
        "# Ordinal Encoding\n",
        "encoder = OrdinalEncoder(categories=[['High School', 'Bachelor', 'Master', 'PhD', 'Post-Doc']])\n",
        "df['Education_Encoded'] = encoder.fit_transform(df[['Education']])\n",
        "\n",
        "print(df)\n"
      ],
      "metadata": {
        "colab": {
          "base_uri": "https://localhost:8080/"
        },
        "id": "UvRdr4AKKvXS",
        "outputId": "df5c4e9d-3fb5-4d31-f901-67af971f7ce5"
      },
      "execution_count": 4,
      "outputs": [
        {
          "output_type": "stream",
          "name": "stdout",
          "text": [
            "     Education  Education_Encoded\n",
            "0  High School                0.0\n",
            "1     Bachelor                1.0\n",
            "2       Master                2.0\n",
            "3          PhD                3.0\n",
            "4     Post-Doc                4.0\n"
          ]
        }
      ]
    },
    {
      "cell_type": "markdown",
      "source": [
        "Step 2: Consider the Machine Learning Algorithm\n",
        "For algorithms like linear regression or neural networks:\n",
        "\n",
        "One-hot encoding is preferable to avoid introducing false ordinal relationships.\n",
        "For tree-based models (e.g., Decision Trees, Random Forests):\n",
        "\n",
        "Label encoding or ordinal encoding is efficient because these models can handle categorical splits inherently.\n",
        "\n",
        "#Step 3: Practical Considerations\n",
        "\n",
        "Dataset Size: If the dataset is large and you are concerned about memory or dimensionality, use label encoding or frequency encoding.\n",
        "\n",
        "Interpretability: One-hot encoding is more interpretable in most cases.\n",
        "#Final Recommendation\n",
        "For 5 unique values:\n",
        "\n",
        "Use One-Hot Encoding if the data is nominal and you are working with algorithms like logistic regression or neural networks.\n",
        "\n",
        "Use Ordinal Encoding if the data is ordinal and you need to preserve the order.\n",
        "\n",
        "\n",
        "\n",
        "\n",
        "\n"
      ],
      "metadata": {
        "id": "Q_RaitkUKs09"
      }
    },
    {
      "cell_type": "markdown",
      "source": [
        "### Q5"
      ],
      "metadata": {
        "id": "hELjPVv2L4L7"
      }
    },
    {
      "cell_type": "markdown",
      "source": [
        "#Step 1: Assess the Categorical Columns\n",
        "Suppose the two categorical columns are named Category_A and Category_B, with unique values as follows:\n",
        "\n",
        "Category_A:\n",
        "𝑛\n",
        "𝐴\n",
        "n\n",
        "A\n",
        "​\n",
        "  unique values.\n",
        "\n",
        "Category_B:\n",
        "𝑛\n",
        "𝐵\n",
        "n\n",
        "B\n",
        "​\n",
        "  unique values.\n",
        "\n",
        "For One-Hot Encoding, each unique value in a categorical column becomes a new binary column. Therefore, the total number of new columns depends on the number of unique values in each categorical column.\n",
        "\n",
        "#Step 2: Formula for Total New Columns\n",
        "The total number of new columns created by one-hot encoding is:\n",
        "\n",
        "Total New Columns\n",
        "=\n",
        "𝑛\n",
        "𝐴\n",
        "+\n",
        "𝑛\n",
        "𝐵\n",
        "\n",
        "Total New Columns=n\n",
        "A\n",
        "​\n",
        " +n\n",
        "B\n",
        "​\n",
        "\n",
        "#Step 3: Example Calculation\n",
        "Let’s assume the following:\n",
        "\n",
        "\n",
        "Category_A: 4 unique values (e.g., \"Red,\" \"Green,\" \"Blue,\" \"Yellow\").\n",
        "\n",
        "Category_B: 3 unique values (e.g., \"Small,\" \"Medium,\" \"Large\").\n",
        "\n",
        "New Columns for Each Categorical Column:\n",
        "\n",
        "Category_A: One-hot encoding creates 4 binary columns.\n",
        "\n",
        "Category_B: One-hot encoding creates 3 binary columns.\n",
        "\n",
        "Total New Columns\n",
        "=\n",
        "4\n",
        "+\n",
        "3\n",
        "=\n",
        "7\n",
        "\n",
        "Total New Columns=4+3=7\n",
        "#Step 4: Result\n",
        "After one-hot encoding, 7 new columns would be added to the dataset.\n",
        "\n",
        "Final Dataset Dimensions\n",
        "\n",
        "Original dataset:\n",
        "1000\n",
        "×\n",
        "5\n",
        "1000×5\n",
        "\n",
        "After encoding:\n",
        "1000\n",
        "×\n",
        "(\n",
        "3\n",
        "+\n",
        "7\n",
        ")\n",
        "=\n",
        "1000\n",
        "×\n",
        "10\n",
        "1000×(3+7)=1000×10\n"
      ],
      "metadata": {
        "id": "SX-1V19gL4O1"
      }
    },
    {
      "cell_type": "code",
      "source": [
        "import pandas as pd\n",
        "\n",
        "# Example dataset\n",
        "data = {\n",
        "    'Category_A': ['Red', 'Green', 'Blue', 'Yellow', 'Red', 'Blue', 'Green', 'Yellow', 'Red', 'Blue'],\n",
        "    'Category_B': ['Small', 'Medium', 'Large', 'Small', 'Large', 'Medium', 'Small', 'Large', 'Medium', 'Small'],\n",
        "    'Num_1': [1, 2, 3, 4, 5, 6, 7, 8, 9, 10],\n",
        "    'Num_2': [10, 20, 30, 40, 50, 60, 70, 80, 90, 100],\n",
        "    'Num_3': [100, 200, 300, 400, 500, 600, 700, 800, 900, 1000]\n",
        "}\n",
        "\n",
        "# Create a DataFrame\n",
        "df = pd.DataFrame(data)\n",
        "\n",
        "# Display the original dataset\n",
        "def display_original_and_encoded():\n",
        "    print(\"Original Dataset:\")\n",
        "    print(df)\n",
        "\n",
        "    # Perform One-Hot Encoding on categorical columns\n",
        "    encoded_df = pd.get_dummies(df, columns=['Category_A', 'Category_B'])\n",
        "\n",
        "    print(\"\\nOne-Hot Encoded Dataset:\")\n",
        "    print(encoded_df)\n",
        "    print(\"\\nOriginal Dataset Shape:\", df.shape)\n",
        "    print(\"Encoded Dataset Shape:\", encoded_df.shape)\n",
        "\n",
        "# Call the function\n",
        "display_original_and_encoded()\n"
      ],
      "metadata": {
        "colab": {
          "base_uri": "https://localhost:8080/"
        },
        "id": "9doCcXuqLXZa",
        "outputId": "b57a2081-493b-4773-e566-0a360c757c55"
      },
      "execution_count": 5,
      "outputs": [
        {
          "output_type": "stream",
          "name": "stdout",
          "text": [
            "Original Dataset:\n",
            "  Category_A Category_B  Num_1  Num_2  Num_3\n",
            "0        Red      Small      1     10    100\n",
            "1      Green     Medium      2     20    200\n",
            "2       Blue      Large      3     30    300\n",
            "3     Yellow      Small      4     40    400\n",
            "4        Red      Large      5     50    500\n",
            "5       Blue     Medium      6     60    600\n",
            "6      Green      Small      7     70    700\n",
            "7     Yellow      Large      8     80    800\n",
            "8        Red     Medium      9     90    900\n",
            "9       Blue      Small     10    100   1000\n",
            "\n",
            "One-Hot Encoded Dataset:\n",
            "   Num_1  Num_2  Num_3  Category_A_Blue  Category_A_Green  Category_A_Red  \\\n",
            "0      1     10    100            False             False            True   \n",
            "1      2     20    200            False              True           False   \n",
            "2      3     30    300             True             False           False   \n",
            "3      4     40    400            False             False           False   \n",
            "4      5     50    500            False             False            True   \n",
            "5      6     60    600             True             False           False   \n",
            "6      7     70    700            False              True           False   \n",
            "7      8     80    800            False             False           False   \n",
            "8      9     90    900            False             False            True   \n",
            "9     10    100   1000             True             False           False   \n",
            "\n",
            "   Category_A_Yellow  Category_B_Large  Category_B_Medium  Category_B_Small  \n",
            "0              False             False              False              True  \n",
            "1              False             False               True             False  \n",
            "2              False              True              False             False  \n",
            "3               True             False              False              True  \n",
            "4              False              True              False             False  \n",
            "5              False             False               True             False  \n",
            "6              False             False              False              True  \n",
            "7               True              True              False             False  \n",
            "8              False             False               True             False  \n",
            "9              False             False              False              True  \n",
            "\n",
            "Original Dataset Shape: (10, 5)\n",
            "Encoded Dataset Shape: (10, 10)\n"
          ]
        }
      ]
    },
    {
      "cell_type": "markdown",
      "source": [
        "### Q6"
      ],
      "metadata": {
        "id": "6l_aoJnGL4Rb"
      }
    },
    {
      "cell_type": "markdown",
      "source": [
        "Selecting an Encoding Technique for Animal Dataset\n",
        "When deciding on an encoding technique for the categorical data, the following\n",
        "#factors must be considered:\n",
        "\n",
        "Nature of the Categorical Data:\n",
        "\n",
        "Species: Likely nominal (e.g., Lion, Tiger, Elephant).\n",
        "\n",
        "Habitat: Likely nominal (e.g., Forest, Desert, Aquatic).\n",
        "\n",
        "Diet: Could be nominal (e.g., Carnivore, Herbivore, Omnivore).\n",
        "\n",
        "#Machine Learning Algorithm:\n",
        "Some algorithms (e.g., decision trees, random forests) can handle categorical data directly, while others (e.g., logistic regression, neural networks) require numerical inputs.\n",
        "\n",
        "Number of Unique Values:\n",
        "The number of unique categories impacts the dimensionality when encoding.\n",
        "\n",
        "#Proposed Encoding Techniques\n",
        "\n",
        "#1. One-Hot Encoding\n",
        "Use Case: When the categories are nominal with no inherent order.\n",
        "\n",
        "Why: One-hot encoding avoids introducing false ordinal relationships and\n",
        "ensures that each category is treated independently by machine learning algorithms.\n",
        "\n",
        "Implementation: Creates a separate binary column for each unique value in a categorical variable.\n",
        "#2. Ordinal Encoding\n",
        "Use Case: If there is an inherent order (e.g., habitats ranked by suitability or diets ranked by energy intake).\n",
        "\n",
        "Why: Ordinal encoding captures the order in a single numerical column, which is meaningful for models that can use ordinal relationships.\n",
        "#3. Frequency or Target Encoding (Advanced)\n",
        "Use Case: When dealing with high cardinality (many unique values).\n",
        "\n",
        "Why: Reduces the number of features, especially if some categories appear infrequently.\n",
        "#Justification of Technique\n",
        "Given the dataset:\n",
        "\n",
        "Species (nominal): Use One-Hot Encoding to represent each species independently.\n",
        "\n",
        "Habitat (nominal): Use One-Hot Encoding for distinct habitat types.\n",
        "\n",
        "Diet (nominal): Use One-Hot Encoding unless there's an ordering (e.g.,\n",
        "Carnivore > Omnivore > Herbivore), in which case Ordinal Encoding may be more appropriate.\n"
      ],
      "metadata": {
        "id": "SnWoGdZ0L4Tu"
      }
    },
    {
      "cell_type": "code",
      "source": [
        "import pandas as pd\n",
        "\n",
        "# Example dataset\n",
        "data = {\n",
        "    'Species': ['Lion', 'Tiger', 'Elephant', 'Lion', 'Giraffe'],\n",
        "    'Habitat': ['Forest', 'Forest', 'Grassland', 'Forest', 'Savannah'],\n",
        "    'Diet': ['Carnivore', 'Carnivore', 'Herbivore', 'Carnivore', 'Herbivore']\n",
        "}\n",
        "\n",
        "df = pd.DataFrame(data)\n",
        "\n",
        "# One-Hot Encoding for nominal data\n",
        "encoded_df = pd.get_dummies(df, columns=['Species', 'Habitat', 'Diet'])\n",
        "\n",
        "# Display the encoded dataset\n",
        "print(encoded_df)\n"
      ],
      "metadata": {
        "colab": {
          "base_uri": "https://localhost:8080/"
        },
        "id": "WJrMolicOPUM",
        "outputId": "07e87492-4596-42fc-deaa-55feeaf86dd6"
      },
      "execution_count": 6,
      "outputs": [
        {
          "output_type": "stream",
          "name": "stdout",
          "text": [
            "   Species_Elephant  Species_Giraffe  Species_Lion  Species_Tiger  \\\n",
            "0             False            False          True          False   \n",
            "1             False            False         False           True   \n",
            "2              True            False         False          False   \n",
            "3             False            False          True          False   \n",
            "4             False             True         False          False   \n",
            "\n",
            "   Habitat_Forest  Habitat_Grassland  Habitat_Savannah  Diet_Carnivore  \\\n",
            "0            True              False             False            True   \n",
            "1            True              False             False            True   \n",
            "2           False               True             False           False   \n",
            "3            True              False             False            True   \n",
            "4           False              False              True           False   \n",
            "\n",
            "   Diet_Herbivore  \n",
            "0           False  \n",
            "1           False  \n",
            "2            True  \n",
            "3           False  \n",
            "4            True  \n"
          ]
        }
      ]
    },
    {
      "cell_type": "markdown",
      "source": [
        "### Q7"
      ],
      "metadata": {
        "id": "Bt971wXGOh2k"
      }
    },
    {
      "cell_type": "markdown",
      "source": [
        "Encoding for Customer Churn Dataset\n",
        "\n",
        "#The dataset contains the following features:\n",
        "\n",
        "Gender (Categorical): Nominal (e.g., Male, Female).\n",
        "\n",
        "Age (Numerical): Already numeric; no encoding needed.\n",
        "\n",
        "Contract Type (Categorical): Nominal (e.g., Month-to-Month, One-Year, Two-Year).\n",
        "\n",
        "Monthly Charges (Numerical): Already numeric; no encoding needed.\n",
        "\n",
        "Tenure (Numerical): Already numeric; no encoding needed.\n",
        "#Step-by-Step Encoding Strategy\n",
        "#Analyze Categorical Features:\n",
        "\n",
        "Gender: A simple binary column, suitable for Label Encoding or One-Hot Encoding.\n",
        "Contract Type: Multiclass nominal, suitable for One-Hot Encoding or Ordinal Encoding depending on the relationship between contract types.\n",
        "#Select Encoding Techniques:\n",
        "\n",
        "Gender: Use Label Encoding (binary representation is sufficient for Male/Female).\n",
        "\n",
        "Contract Type: Use One-Hot Encoding if no ordinal relationship exists. If the\n",
        "contract types imply progression (e.g., longer contracts are \"better\"), consider Ordinal Encoding.\n",
        "#Implement Encoding:\n",
        "\n",
        "One-Hot Encoding: Converts categorical variables into multiple binary columns, useful for models sensitive to ordinal relationships (e.g., neural networks, linear regression).\n",
        "\n",
        "Label Encoding: Simpler and introduces fewer columns but risks misinterpretation of ordinal relationships.\n",
        "\n",
        "#Combine Encoded Features with Numerical Features:\n",
        "\n",
        "Combine the encoded categorical data with the original numerical features (Age, Monthly Charges, Tenure) for a complete dataset.\n"
      ],
      "metadata": {
        "id": "QGJ4njHROlMu"
      }
    },
    {
      "cell_type": "code",
      "source": [
        "import pandas as pd\n",
        "\n",
        "# Example dataset\n",
        "data = {\n",
        "    'Gender': ['Male', 'Female', 'Female', 'Male', 'Female'],\n",
        "    'Age': [25, 30, 35, 40, 45],\n",
        "    'Contract_Type': ['Month-to-Month', 'One-Year', 'Two-Year', 'Month-to-Month', 'Two-Year'],\n",
        "    'Monthly_Charges': [70, 80, 90, 60, 100],\n",
        "    'Tenure': [12, 24, 36, 6, 48]\n",
        "}\n",
        "\n",
        "df = pd.DataFrame(data)\n",
        "\n",
        "# Step 1: Label Encoding for Gender\n",
        "df['Gender'] = df['Gender'].map({'Male': 0, 'Female': 1})\n",
        "\n",
        "# Step 2: One-Hot Encoding for Contract Type\n",
        "df_encoded = pd.get_dummies(df, columns=['Contract_Type'])\n",
        "\n",
        "# Display the final encoded dataset\n",
        "print(df_encoded)\n"
      ],
      "metadata": {
        "colab": {
          "base_uri": "https://localhost:8080/"
        },
        "id": "6_xPdfb3OV8s",
        "outputId": "e75a193e-f619-40f0-b009-108db40f77ba"
      },
      "execution_count": 7,
      "outputs": [
        {
          "output_type": "stream",
          "name": "stdout",
          "text": [
            "   Gender  Age  Monthly_Charges  Tenure  Contract_Type_Month-to-Month  \\\n",
            "0       0   25               70      12                          True   \n",
            "1       1   30               80      24                         False   \n",
            "2       1   35               90      36                         False   \n",
            "3       0   40               60       6                          True   \n",
            "4       1   45              100      48                         False   \n",
            "\n",
            "   Contract_Type_One-Year  Contract_Type_Two-Year  \n",
            "0                   False                   False  \n",
            "1                    True                   False  \n",
            "2                   False                    True  \n",
            "3                   False                   False  \n",
            "4                   False                    True  \n"
          ]
        }
      ]
    },
    {
      "cell_type": "code",
      "source": [],
      "metadata": {
        "id": "pn2E_QC4PAe_"
      },
      "execution_count": null,
      "outputs": []
    }
  ]
}